{
  "cells": [
    {
      "metadata": {},
      "cell_type": "markdown",
      "source": "# Notebook to create NSEW points"
    },
    {
      "metadata": {
        "trusted": true
      },
      "cell_type": "code",
      "source": "import math\nimport numpy as np",
      "execution_count": 1,
      "outputs": []
    },
    {
      "metadata": {},
      "cell_type": "markdown",
      "source": "### Insert initial position  "
    },
    {
      "metadata": {
        "trusted": true
      },
      "cell_type": "code",
      "source": "lon, lat = -88.720, 28.200",
      "execution_count": 2,
      "outputs": []
    },
    {
      "metadata": {},
      "cell_type": "markdown",
      "source": "### Insert distance in km"
    },
    {
      "metadata": {
        "trusted": true
      },
      "cell_type": "code",
      "source": "distance = 30",
      "execution_count": 3,
      "outputs": []
    },
    {
      "metadata": {},
      "cell_type": "markdown",
      "source": "## Calculate new points (using 1 deg Lat = 110.570 km and 1 deg Lon = [111.320 * cos(lat)] km "
    },
    {
      "metadata": {
        "trusted": true
      },
      "cell_type": "code",
      "source": "lat_max = lat + (distance / 110.570)\nlat_min = lat - (distance / 110.570)\nlon_max = lon + (distance / (111.320 * math.cos(math.radians(lat)))) \nlon_min = lon - (distance / (111.320 * math.cos(math.radians(lat))))",
      "execution_count": 4,
      "outputs": []
    },
    {
      "metadata": {
        "trusted": true
      },
      "cell_type": "code",
      "source": "lat_points = np.around(np.linspace(lat_min, lat_max, endpoint=True, num=3), decimals=2)\nlon_points = np.around(np.linspace(lon_min, lon_max, endpoint=True, num=3), decimals=2)",
      "execution_count": 5,
      "outputs": []
    },
    {
      "metadata": {
        "trusted": true
      },
      "cell_type": "code",
      "source": "north = lon_points[1], lat_points[2]\nsouth = lon_points[1], lat_points[0]\neast = lon_points[2], lat_points[1]\nwest = lon_points[0], lat_points[1]",
      "execution_count": 6,
      "outputs": []
    },
    {
      "metadata": {},
      "cell_type": "markdown",
      "source": "### Get NSEW points"
    },
    {
      "metadata": {
        "trusted": true
      },
      "cell_type": "code",
      "source": "print('N = {}'.format(north))\nprint('S = {}'.format(south))\nprint('E = {}'.format(east))\nprint('W = {}'.format(west))",
      "execution_count": 7,
      "outputs": [
        {
          "output_type": "stream",
          "text": "N = (-88.72, 28.47)\nS = (-88.72, 27.93)\nE = (-88.41, 28.2)\nW = (-89.03, 28.2)\n",
          "name": "stdout"
        }
      ]
    },
    {
      "metadata": {},
      "cell_type": "markdown",
      "source": "## Check distances"
    },
    {
      "metadata": {
        "trusted": true
      },
      "cell_type": "code",
      "source": "def get_distance(P1_lon, P1_lat, P2_lon, P2_lat):\n    R = 6372.795477598 # earth radius km\n    P1_lon, P1_lat, P2_lon, P2_lat = math.radians(P1_lon), math.radians(P1_lat), math.radians(P2_lon), math.radians(P2_lat)   \n    dis = R * math.acos(math.sin(P1_lat) * math.sin(P2_lat) + math.cos(P1_lat) * math.cos(P2_lat) * math.cos(P1_lon - P2_lon))\n    return dis",
      "execution_count": 8,
      "outputs": []
    },
    {
      "metadata": {
        "trusted": true
      },
      "cell_type": "code",
      "source": "print('North points {} is \\n{} km from ({}, {})'.format(north, get_distance(lon, lat, north[0], north[1]), lon, lat))",
      "execution_count": 9,
      "outputs": [
        {
          "output_type": "stream",
          "text": "North points (-88.72, 28.47) is \n30.03109118273083 km from (-88.72, 28.2)\n",
          "name": "stdout"
        }
      ]
    },
    {
      "metadata": {
        "trusted": true
      },
      "cell_type": "code",
      "source": "print('South points {} is \\n{} km from ({}, {})'.format(south, get_distance(lon, lat, south[0], south[1]), lon, lat))",
      "execution_count": 10,
      "outputs": [
        {
          "output_type": "stream",
          "text": "South points (-88.72, 27.93) is \n30.031091182880974 km from (-88.72, 28.2)\n",
          "name": "stdout"
        }
      ]
    },
    {
      "metadata": {
        "trusted": true
      },
      "cell_type": "code",
      "source": "print('East points {} is \\n{} km from ({}, {})'.format(east, get_distance(lon, lat, east[0], east[1]), lon, lat))",
      "execution_count": 11,
      "outputs": [
        {
          "output_type": "stream",
          "text": "East points (-88.41, 28.2) is \n30.387459656105953 km from (-88.72, 28.2)\n",
          "name": "stdout"
        }
      ]
    },
    {
      "metadata": {
        "trusted": true
      },
      "cell_type": "code",
      "source": "print('West points {} is \\n{} km from ({}, {})'.format(west, get_distance(lon, lat, west[0], west[1]) , lon, lat))",
      "execution_count": 12,
      "outputs": [
        {
          "output_type": "stream",
          "text": "West points (-89.03, 28.2) is \n30.387459656105953 km from (-88.72, 28.2)\n",
          "name": "stdout"
        }
      ]
    },
    {
      "metadata": {
        "trusted": true
      },
      "cell_type": "code",
      "source": "",
      "execution_count": null,
      "outputs": []
    }
  ],
  "metadata": {
    "kernelspec": {
      "name": "python36",
      "display_name": "Python 3.6",
      "language": "python"
    },
    "language_info": {
      "mimetype": "text/x-python",
      "nbconvert_exporter": "python",
      "name": "python",
      "pygments_lexer": "ipython3",
      "version": "3.6.6",
      "file_extension": ".py",
      "codemirror_mode": {
        "version": 3,
        "name": "ipython"
      }
    }
  },
  "nbformat": 4,
  "nbformat_minor": 2
}